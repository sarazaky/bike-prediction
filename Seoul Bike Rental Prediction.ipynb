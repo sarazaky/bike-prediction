{
 "cells": [
  {
   "cell_type": "code",
   "execution_count": 1,
   "metadata": {
    "_cell_guid": "b1076dfc-b9ad-4769-8c92-a6c4dae69d19",
    "_uuid": "8f2839f25d086af736a60e9eeb907d3b93b6e0e5",
    "execution": {
     "iopub.execute_input": "2021-08-15T23:51:09.264576Z",
     "iopub.status.busy": "2021-08-15T23:51:09.263709Z",
     "iopub.status.idle": "2021-08-15T23:51:09.268691Z",
     "shell.execute_reply": "2021-08-15T23:51:09.269462Z",
     "shell.execute_reply.started": "2021-08-15T23:49:56.123671Z"
    },
    "papermill": {
     "duration": 0.06323,
     "end_time": "2021-08-15T23:51:09.269833",
     "exception": false,
     "start_time": "2021-08-15T23:51:09.206603",
     "status": "completed"
    },
    "tags": []
   },
   "outputs": [
    {
     "name": "stdout",
     "output_type": "stream",
     "text": [
      "/kaggle/input/seoul-bike-rental-ai-pro-iti/sample_submission.csv\n",
      "/kaggle/input/seoul-bike-rental-ai-pro-iti/train.csv\n",
      "/kaggle/input/seoul-bike-rental-ai-pro-iti/test.csv\n"
     ]
    }
   ],
   "source": [
    "# This Python 3 environment comes with many helpful analytics libraries installed\n",
    "# It is defined by the kaggle/python Docker image: https://github.com/kaggle/docker-python\n",
    "# For example, here's several helpful packages to load\n",
    "\n",
    "import numpy as np # linear algebra\n",
    "import pandas as pd # data processing, CSV file I/O (e.g. pd.read_csv)\n",
    "\n",
    "# Input data files are available in the read-only \"../input/\" directory\n",
    "# For example, running this (by clicking run or pressing Shift+Enter) will list all files under the input directory\n",
    "\n",
    "import os\n",
    "for dirname, _, filenames in os.walk('/kaggle/input'):\n",
    "    for filename in filenames:\n",
    "        print(os.path.join(dirname, filename))\n",
    "\n",
    "# You can write up to 20GB to the current directory (/kaggle/working/) that gets preserved as output when you create a version using \"Save & Run All\" \n",
    "# You can also write temporary files to /kaggle/temp/, but they won't be saved outside of the current session"
   ]
  },
  {
   "cell_type": "code",
   "execution_count": 2,
   "metadata": {
    "execution": {
     "iopub.execute_input": "2021-08-15T23:51:09.365354Z",
     "iopub.status.busy": "2021-08-15T23:51:09.364689Z",
     "iopub.status.idle": "2021-08-15T23:51:10.957362Z",
     "shell.execute_reply": "2021-08-15T23:51:10.956156Z",
     "shell.execute_reply.started": "2021-08-15T23:49:56.139938Z"
    },
    "papermill": {
     "duration": 1.642207,
     "end_time": "2021-08-15T23:51:10.957528",
     "exception": false,
     "start_time": "2021-08-15T23:51:09.315321",
     "status": "completed"
    },
    "tags": []
   },
   "outputs": [
    {
     "data": {
      "text/plain": [
       "'0.23.2'"
      ]
     },
     "execution_count": 2,
     "metadata": {},
     "output_type": "execute_result"
    }
   ],
   "source": [
    "# !pip install xgboost\n",
    "\n",
    "\n",
    "\n",
    "from sklearn import preprocessing\n",
    "from sklearn.model_selection import train_test_split\n",
    "from sklearn.ensemble import ExtraTreesRegressor, RandomForestRegressor, GradientBoostingRegressor, BaggingRegressor\n",
    "from sklearn.tree import DecisionTreeRegressor\n",
    "from sklearn.metrics import mean_squared_error\n",
    "from sklearn.decomposition import PCA\n",
    "import matplotlib.pyplot as plt\n",
    "from xgboost import XGBRegressor\n",
    "\n",
    "import seaborn as sns\n",
    "\n",
    "import sklearn\n",
    "sklearn.__version__"
   ]
  },
  {
   "cell_type": "markdown",
   "metadata": {
    "papermill": {
     "duration": 0.04626,
     "end_time": "2021-08-15T23:51:11.048984",
     "exception": false,
     "start_time": "2021-08-15T23:51:11.002724",
     "status": "completed"
    },
    "tags": []
   },
   "source": [
    "# Exploratory Data Analysis"
   ]
  },
  {
   "cell_type": "markdown",
   "metadata": {
    "papermill": {
     "duration": 0.044426,
     "end_time": "2021-08-15T23:51:11.138218",
     "exception": false,
     "start_time": "2021-08-15T23:51:11.093792",
     "status": "completed"
    },
    "tags": []
   },
   "source": []
  },
  {
   "cell_type": "code",
   "execution_count": 3,
   "metadata": {
    "execution": {
     "iopub.execute_input": "2021-08-15T23:51:11.233725Z",
     "iopub.status.busy": "2021-08-15T23:51:11.233038Z",
     "iopub.status.idle": "2021-08-15T23:51:11.321201Z",
     "shell.execute_reply": "2021-08-15T23:51:11.320591Z",
     "shell.execute_reply.started": "2021-08-15T23:49:57.579170Z"
    },
    "papermill": {
     "duration": 0.138542,
     "end_time": "2021-08-15T23:51:11.321335",
     "exception": false,
     "start_time": "2021-08-15T23:51:11.182793",
     "status": "completed"
    },
    "tags": []
   },
   "outputs": [
    {
     "name": "stdout",
     "output_type": "stream",
     "text": [
      "The shape of the dataset is (5760, 15).\n",
      "\n",
      "\n",
      "The shape of test dataset is (3000, 14).\n",
      "\n",
      "\n"
     ]
    },
    {
     "data": {
      "text/html": [
       "<div>\n",
       "<style scoped>\n",
       "    .dataframe tbody tr th:only-of-type {\n",
       "        vertical-align: middle;\n",
       "    }\n",
       "\n",
       "    .dataframe tbody tr th {\n",
       "        vertical-align: top;\n",
       "    }\n",
       "\n",
       "    .dataframe thead th {\n",
       "        text-align: right;\n",
       "    }\n",
       "</style>\n",
       "<table border=\"1\" class=\"dataframe\">\n",
       "  <thead>\n",
       "    <tr style=\"text-align: right;\">\n",
       "      <th></th>\n",
       "      <th>ID</th>\n",
       "      <th>Date</th>\n",
       "      <th>y</th>\n",
       "      <th>Hour</th>\n",
       "      <th>Temperature(�C)</th>\n",
       "      <th>Humidity(%)</th>\n",
       "      <th>Wind speed (m/s)</th>\n",
       "      <th>Visibility (10m)</th>\n",
       "      <th>Dew point temperature(�C)</th>\n",
       "      <th>Solar Radiation (MJ/m2)</th>\n",
       "      <th>Rainfall(mm)</th>\n",
       "      <th>Snowfall (cm)</th>\n",
       "      <th>Seasons</th>\n",
       "      <th>Holiday</th>\n",
       "      <th>Functioning Day</th>\n",
       "    </tr>\n",
       "  </thead>\n",
       "  <tbody>\n",
       "    <tr>\n",
       "      <th>0</th>\n",
       "      <td>0</td>\n",
       "      <td>01/12/2017</td>\n",
       "      <td>254</td>\n",
       "      <td>0</td>\n",
       "      <td>-5.2</td>\n",
       "      <td>37</td>\n",
       "      <td>2.2</td>\n",
       "      <td>2000</td>\n",
       "      <td>-17.6</td>\n",
       "      <td>0.0</td>\n",
       "      <td>0.0</td>\n",
       "      <td>0.0</td>\n",
       "      <td>Winter</td>\n",
       "      <td>No Holiday</td>\n",
       "      <td>Yes</td>\n",
       "    </tr>\n",
       "    <tr>\n",
       "      <th>1</th>\n",
       "      <td>1</td>\n",
       "      <td>01/12/2017</td>\n",
       "      <td>204</td>\n",
       "      <td>1</td>\n",
       "      <td>-5.5</td>\n",
       "      <td>38</td>\n",
       "      <td>0.8</td>\n",
       "      <td>2000</td>\n",
       "      <td>-17.6</td>\n",
       "      <td>0.0</td>\n",
       "      <td>0.0</td>\n",
       "      <td>0.0</td>\n",
       "      <td>Winter</td>\n",
       "      <td>No Holiday</td>\n",
       "      <td>Yes</td>\n",
       "    </tr>\n",
       "    <tr>\n",
       "      <th>2</th>\n",
       "      <td>2</td>\n",
       "      <td>01/12/2017</td>\n",
       "      <td>173</td>\n",
       "      <td>2</td>\n",
       "      <td>-6.0</td>\n",
       "      <td>39</td>\n",
       "      <td>1.0</td>\n",
       "      <td>2000</td>\n",
       "      <td>-17.7</td>\n",
       "      <td>0.0</td>\n",
       "      <td>0.0</td>\n",
       "      <td>0.0</td>\n",
       "      <td>Winter</td>\n",
       "      <td>No Holiday</td>\n",
       "      <td>Yes</td>\n",
       "    </tr>\n",
       "    <tr>\n",
       "      <th>3</th>\n",
       "      <td>3</td>\n",
       "      <td>01/12/2017</td>\n",
       "      <td>107</td>\n",
       "      <td>3</td>\n",
       "      <td>-6.2</td>\n",
       "      <td>40</td>\n",
       "      <td>0.9</td>\n",
       "      <td>2000</td>\n",
       "      <td>-17.6</td>\n",
       "      <td>0.0</td>\n",
       "      <td>0.0</td>\n",
       "      <td>0.0</td>\n",
       "      <td>Winter</td>\n",
       "      <td>No Holiday</td>\n",
       "      <td>Yes</td>\n",
       "    </tr>\n",
       "    <tr>\n",
       "      <th>4</th>\n",
       "      <td>4</td>\n",
       "      <td>01/12/2017</td>\n",
       "      <td>78</td>\n",
       "      <td>4</td>\n",
       "      <td>-6.0</td>\n",
       "      <td>36</td>\n",
       "      <td>2.3</td>\n",
       "      <td>2000</td>\n",
       "      <td>-18.6</td>\n",
       "      <td>0.0</td>\n",
       "      <td>0.0</td>\n",
       "      <td>0.0</td>\n",
       "      <td>Winter</td>\n",
       "      <td>No Holiday</td>\n",
       "      <td>Yes</td>\n",
       "    </tr>\n",
       "  </tbody>\n",
       "</table>\n",
       "</div>"
      ],
      "text/plain": [
       "   ID        Date    y  Hour  Temperature(�C)  Humidity(%)  Wind speed (m/s)  \\\n",
       "0   0  01/12/2017  254     0             -5.2           37               2.2   \n",
       "1   1  01/12/2017  204     1             -5.5           38               0.8   \n",
       "2   2  01/12/2017  173     2             -6.0           39               1.0   \n",
       "3   3  01/12/2017  107     3             -6.2           40               0.9   \n",
       "4   4  01/12/2017   78     4             -6.0           36               2.3   \n",
       "\n",
       "   Visibility (10m)  Dew point temperature(�C)  Solar Radiation (MJ/m2)  \\\n",
       "0              2000                      -17.6                      0.0   \n",
       "1              2000                      -17.6                      0.0   \n",
       "2              2000                      -17.7                      0.0   \n",
       "3              2000                      -17.6                      0.0   \n",
       "4              2000                      -18.6                      0.0   \n",
       "\n",
       "   Rainfall(mm)  Snowfall (cm) Seasons     Holiday Functioning Day  \n",
       "0           0.0            0.0  Winter  No Holiday             Yes  \n",
       "1           0.0            0.0  Winter  No Holiday             Yes  \n",
       "2           0.0            0.0  Winter  No Holiday             Yes  \n",
       "3           0.0            0.0  Winter  No Holiday             Yes  \n",
       "4           0.0            0.0  Winter  No Holiday             Yes  "
      ]
     },
     "execution_count": 3,
     "metadata": {},
     "output_type": "execute_result"
    }
   ],
   "source": [
    "#Reading Train Dataset\n",
    "\n",
    "df = pd.read_csv(os.path.join('data/train.csv'))\n",
    "print(\"The shape of the dataset is {}.\\n\\n\".format(df.shape))\n",
    "\n",
    "df_test = pd.read_csv(os.path.join('data/test.csv'))\n",
    "print(\"The shape of test dataset is {}.\\n\\n\".format(df_test.shape))\n",
    "\n",
    "df.head()"
   ]
  },
  {
   "cell_type": "code",
   "execution_count": 4,
   "metadata": {
    "execution": {
     "iopub.execute_input": "2021-08-15T23:51:11.416031Z",
     "iopub.status.busy": "2021-08-15T23:51:11.415021Z",
     "iopub.status.idle": "2021-08-15T23:51:11.420120Z",
     "shell.execute_reply": "2021-08-15T23:51:11.419556Z",
     "shell.execute_reply.started": "2021-08-15T23:49:57.669799Z"
    },
    "papermill": {
     "duration": 0.05348,
     "end_time": "2021-08-15T23:51:11.420273",
     "exception": false,
     "start_time": "2021-08-15T23:51:11.366793",
     "status": "completed"
    },
    "tags": []
   },
   "outputs": [],
   "source": [
    "# df.info()"
   ]
  },
  {
   "cell_type": "code",
   "execution_count": 5,
   "metadata": {
    "execution": {
     "iopub.execute_input": "2021-08-15T23:51:11.516669Z",
     "iopub.status.busy": "2021-08-15T23:51:11.515978Z",
     "iopub.status.idle": "2021-08-15T23:51:11.518051Z",
     "shell.execute_reply": "2021-08-15T23:51:11.518544Z",
     "shell.execute_reply.started": "2021-08-15T23:49:57.677487Z"
    },
    "papermill": {
     "duration": 0.052689,
     "end_time": "2021-08-15T23:51:11.518736",
     "exception": false,
     "start_time": "2021-08-15T23:51:11.466047",
     "status": "completed"
    },
    "tags": []
   },
   "outputs": [],
   "source": [
    "# df.drop(columns='ID').describe()"
   ]
  },
  {
   "cell_type": "code",
   "execution_count": 6,
   "metadata": {
    "execution": {
     "iopub.execute_input": "2021-08-15T23:51:11.613780Z",
     "iopub.status.busy": "2021-08-15T23:51:11.613142Z",
     "iopub.status.idle": "2021-08-15T23:51:11.616078Z",
     "shell.execute_reply": "2021-08-15T23:51:11.616593Z",
     "shell.execute_reply.started": "2021-08-15T23:49:57.687975Z"
    },
    "papermill": {
     "duration": 0.05243,
     "end_time": "2021-08-15T23:51:11.616789",
     "exception": false,
     "start_time": "2021-08-15T23:51:11.564359",
     "status": "completed"
    },
    "tags": []
   },
   "outputs": [],
   "source": [
    "# df.isna().sum()"
   ]
  },
  {
   "cell_type": "code",
   "execution_count": 7,
   "metadata": {
    "execution": {
     "iopub.execute_input": "2021-08-15T23:51:11.714096Z",
     "iopub.status.busy": "2021-08-15T23:51:11.713418Z",
     "iopub.status.idle": "2021-08-15T23:51:11.716423Z",
     "shell.execute_reply": "2021-08-15T23:51:11.716947Z",
     "shell.execute_reply.started": "2021-08-15T23:49:57.698154Z"
    },
    "papermill": {
     "duration": 0.053272,
     "end_time": "2021-08-15T23:51:11.717113",
     "exception": false,
     "start_time": "2021-08-15T23:51:11.663841",
     "status": "completed"
    },
    "tags": []
   },
   "outputs": [],
   "source": [
    "# df.duplicated().sum()"
   ]
  },
  {
   "cell_type": "code",
   "execution_count": 8,
   "metadata": {
    "execution": {
     "iopub.execute_input": "2021-08-15T23:51:11.812331Z",
     "iopub.status.busy": "2021-08-15T23:51:11.811666Z",
     "iopub.status.idle": "2021-08-15T23:51:11.815631Z",
     "shell.execute_reply": "2021-08-15T23:51:11.814975Z",
     "shell.execute_reply.started": "2021-08-15T23:49:57.712477Z"
    },
    "papermill": {
     "duration": 0.052514,
     "end_time": "2021-08-15T23:51:11.815784",
     "exception": false,
     "start_time": "2021-08-15T23:51:11.763270",
     "status": "completed"
    },
    "tags": []
   },
   "outputs": [],
   "source": [
    "# # count the values of each column\n",
    "# for col in df.drop(columns='ID').columns:\n",
    "#     print(f'For column {col}')\n",
    "#     print('------------------')\n",
    "#     print(df[col].value_counts())\n",
    "#     print('\\n')"
   ]
  },
  {
   "cell_type": "code",
   "execution_count": 9,
   "metadata": {
    "execution": {
     "iopub.execute_input": "2021-08-15T23:51:11.914203Z",
     "iopub.status.busy": "2021-08-15T23:51:11.913536Z",
     "iopub.status.idle": "2021-08-15T23:51:11.915660Z",
     "shell.execute_reply": "2021-08-15T23:51:11.916156Z",
     "shell.execute_reply.started": "2021-08-15T23:49:57.722258Z"
    },
    "papermill": {
     "duration": 0.053712,
     "end_time": "2021-08-15T23:51:11.916317",
     "exception": false,
     "start_time": "2021-08-15T23:51:11.862605",
     "status": "completed"
    },
    "tags": []
   },
   "outputs": [],
   "source": [
    "# corr_matrix = df.corr()\n",
    "# corr_matrix['y'].sort_values(ascending=False)"
   ]
  },
  {
   "cell_type": "code",
   "execution_count": 10,
   "metadata": {
    "execution": {
     "iopub.execute_input": "2021-08-15T23:51:12.011984Z",
     "iopub.status.busy": "2021-08-15T23:51:12.011210Z",
     "iopub.status.idle": "2021-08-15T23:51:12.014100Z",
     "shell.execute_reply": "2021-08-15T23:51:12.014620Z",
     "shell.execute_reply.started": "2021-08-15T23:49:57.737921Z"
    },
    "papermill": {
     "duration": 0.052873,
     "end_time": "2021-08-15T23:51:12.014789",
     "exception": false,
     "start_time": "2021-08-15T23:51:11.961916",
     "status": "completed"
    },
    "tags": []
   },
   "outputs": [],
   "source": [
    "# #pairplots to get an intuition of potential correlations\n",
    "# sns.pairplot(df.drop(columns=\"ID\"), diag_kind=\"kde\")"
   ]
  },
  {
   "cell_type": "code",
   "execution_count": 11,
   "metadata": {
    "execution": {
     "iopub.execute_input": "2021-08-15T23:51:12.109561Z",
     "iopub.status.busy": "2021-08-15T23:51:12.108905Z",
     "iopub.status.idle": "2021-08-15T23:51:12.112542Z",
     "shell.execute_reply": "2021-08-15T23:51:12.112990Z",
     "shell.execute_reply.started": "2021-08-15T23:49:57.748740Z"
    },
    "papermill": {
     "duration": 0.053006,
     "end_time": "2021-08-15T23:51:12.113154",
     "exception": false,
     "start_time": "2021-08-15T23:51:12.060148",
     "status": "completed"
    },
    "tags": []
   },
   "outputs": [],
   "source": [
    "# df[\"Temperature(�C)\"].corr(df[\"Dew point temperature(�C)\"])"
   ]
  },
  {
   "cell_type": "code",
   "execution_count": 12,
   "metadata": {
    "execution": {
     "iopub.execute_input": "2021-08-15T23:51:12.211490Z",
     "iopub.status.busy": "2021-08-15T23:51:12.210291Z",
     "iopub.status.idle": "2021-08-15T23:51:12.212729Z",
     "shell.execute_reply": "2021-08-15T23:51:12.213248Z",
     "shell.execute_reply.started": "2021-08-15T23:49:57.759055Z"
    },
    "papermill": {
     "duration": 0.053878,
     "end_time": "2021-08-15T23:51:12.213435",
     "exception": false,
     "start_time": "2021-08-15T23:51:12.159557",
     "status": "completed"
    },
    "tags": []
   },
   "outputs": [],
   "source": [
    "# df.drop(columns= \"ID\").hist(bins=50, figsize=(20,15))\n",
    "# plt.show()"
   ]
  },
  {
   "cell_type": "code",
   "execution_count": 13,
   "metadata": {
    "execution": {
     "iopub.execute_input": "2021-08-15T23:51:12.309595Z",
     "iopub.status.busy": "2021-08-15T23:51:12.308634Z",
     "iopub.status.idle": "2021-08-15T23:51:12.311979Z",
     "shell.execute_reply": "2021-08-15T23:51:12.312425Z",
     "shell.execute_reply.started": "2021-08-15T23:49:57.771151Z"
    },
    "papermill": {
     "duration": 0.05301,
     "end_time": "2021-08-15T23:51:12.312589",
     "exception": false,
     "start_time": "2021-08-15T23:51:12.259579",
     "status": "completed"
    },
    "tags": []
   },
   "outputs": [],
   "source": [
    "# for f in ['Solar Radiation (MJ/m2)', \"Seasons\", \"Hour\", \"Rainfall(mm)\", \"Snowfall (cm)\", \"Wind speed (m/s)\", \"Humidity(%)\", \"Functioning Day\"]:\n",
    "#     plt.bar(df[f], df['y'])\n",
    "#     plt.xlabel(f)\n",
    "#     plt.ylabel('Number of bikes')\n",
    "#     plt.show()\n",
    "#     plt.clf()"
   ]
  },
  {
   "cell_type": "markdown",
   "metadata": {
    "papermill": {
     "duration": 0.046304,
     "end_time": "2021-08-15T23:51:12.404576",
     "exception": false,
     "start_time": "2021-08-15T23:51:12.358272",
     "status": "completed"
    },
    "tags": []
   },
   "source": []
  },
  {
   "cell_type": "markdown",
   "metadata": {
    "papermill": {
     "duration": 0.045657,
     "end_time": "2021-08-15T23:51:12.496004",
     "exception": false,
     "start_time": "2021-08-15T23:51:12.450347",
     "status": "completed"
    },
    "tags": []
   },
   "source": [
    "# Add Features"
   ]
  },
  {
   "cell_type": "markdown",
   "metadata": {
    "papermill": {
     "duration": 0.047138,
     "end_time": "2021-08-15T23:51:12.589697",
     "exception": false,
     "start_time": "2021-08-15T23:51:12.542559",
     "status": "completed"
    },
    "tags": []
   },
   "source": [
    "Train Data"
   ]
  },
  {
   "cell_type": "code",
   "execution_count": 14,
   "metadata": {
    "execution": {
     "iopub.execute_input": "2021-08-15T23:51:12.688720Z",
     "iopub.status.busy": "2021-08-15T23:51:12.687663Z",
     "iopub.status.idle": "2021-08-15T23:51:12.714456Z",
     "shell.execute_reply": "2021-08-15T23:51:12.713736Z",
     "shell.execute_reply.started": "2021-08-15T23:49:57.782293Z"
    },
    "papermill": {
     "duration": 0.07747,
     "end_time": "2021-08-15T23:51:12.714595",
     "exception": false,
     "start_time": "2021-08-15T23:51:12.637125",
     "status": "completed"
    },
    "tags": []
   },
   "outputs": [],
   "source": [
    "df[\"HumidityMultTemp\"] = df['Humidity(%)'] * df['Temperature(�C)']\n",
    "df[\"HourMultRain\"] = df['Hour'] * df['Rainfall(mm)']\n",
    "df[\"HourMultTemp\"] = df['Hour'] * df['Temperature(�C)']\n",
    "df[\"HourMultSnow\"] = df['Hour'] * df['Snowfall (cm)']\n"
   ]
  },
  {
   "cell_type": "code",
   "execution_count": 15,
   "metadata": {
    "execution": {
     "iopub.execute_input": "2021-08-15T23:51:12.819540Z",
     "iopub.status.busy": "2021-08-15T23:51:12.818533Z",
     "iopub.status.idle": "2021-08-15T23:51:12.858057Z",
     "shell.execute_reply": "2021-08-15T23:51:12.856814Z",
     "shell.execute_reply.started": "2021-08-15T23:49:57.813625Z"
    },
    "papermill": {
     "duration": 0.096713,
     "end_time": "2021-08-15T23:51:12.858224",
     "exception": false,
     "start_time": "2021-08-15T23:51:12.761511",
     "status": "completed"
    },
    "tags": []
   },
   "outputs": [],
   "source": [
    "def add_deviation_feature(X, feature, category):\n",
    "    # temp groupby object\n",
    "    category_gb = X.groupby(category)[feature]\n",
    "    # create category means and standard deviations for each observation\n",
    "    category_mean = category_gb.transform(lambda x: x.mean())\n",
    "    category_std = category_gb.transform(lambda x: x.std())\n",
    "    # compute stds from category mean for each feature value,\n",
    "    # add to X as new feature\n",
    "    deviation_feature = (X[feature] - category_mean) / category_std \n",
    "    X[feature + 'Dev' + category] = deviation_feature\n",
    "\n",
    "add_deviation_feature(df,'Solar Radiation (MJ/m2)' , \"Hour\")\n",
    "add_deviation_feature(df,'HumidityMultTemp' , \"Hour\")\n",
    "df.fillna(0, inplace=True)\n"
   ]
  },
  {
   "cell_type": "code",
   "execution_count": 16,
   "metadata": {
    "execution": {
     "iopub.execute_input": "2021-08-15T23:51:12.962998Z",
     "iopub.status.busy": "2021-08-15T23:51:12.962260Z",
     "iopub.status.idle": "2021-08-15T23:51:12.974550Z",
     "shell.execute_reply": "2021-08-15T23:51:12.975073Z",
     "shell.execute_reply.started": "2021-08-15T23:49:57.862084Z"
    },
    "papermill": {
     "duration": 0.071113,
     "end_time": "2021-08-15T23:51:12.975239",
     "exception": false,
     "start_time": "2021-08-15T23:51:12.904126",
     "status": "completed"
    },
    "tags": []
   },
   "outputs": [],
   "source": [
    "#Convert Date to Year, Month, Day\n",
    "date_col = pd.to_datetime(df['Date']).dt\n",
    "\n",
    "df[\"Year\"] = date_col.year\n",
    "df[\"Month\"] = date_col.month\n",
    "df[\"Day\"] = date_col.day\n",
    "\n",
    "#Replace Date With Week Day \n",
    "dw_mapping={\n",
    "    0: 'Monday', \n",
    "    1: 'Tuesday', \n",
    "    2: 'Wednesday', \n",
    "    3: 'Thursday', \n",
    "    4: 'Friday',\n",
    "    5: 'Saturday', \n",
    "    6: 'Sunday'\n",
    "} \n",
    "df['Day_name'] = date_col.weekday.map(dw_mapping)\n",
    "df.drop(columns=\"Date\", inplace=True)\n",
    "# df.head()"
   ]
  },
  {
   "cell_type": "code",
   "execution_count": 17,
   "metadata": {
    "execution": {
     "iopub.execute_input": "2021-08-15T23:51:13.070843Z",
     "iopub.status.busy": "2021-08-15T23:51:13.070200Z",
     "iopub.status.idle": "2021-08-15T23:51:13.079938Z",
     "shell.execute_reply": "2021-08-15T23:51:13.080391Z",
     "shell.execute_reply.started": "2021-08-15T23:49:57.887844Z"
    },
    "papermill": {
     "duration": 0.058935,
     "end_time": "2021-08-15T23:51:13.080584",
     "exception": false,
     "start_time": "2021-08-15T23:51:13.021649",
     "status": "completed"
    },
    "tags": []
   },
   "outputs": [],
   "source": [
    "df[\"Weekend\"] = df['Day_name'].apply(lambda x : 1 if (x == 'Saturday' or x == \"Sunday\") else(0))"
   ]
  },
  {
   "cell_type": "code",
   "execution_count": 18,
   "metadata": {
    "execution": {
     "iopub.execute_input": "2021-08-15T23:51:13.186389Z",
     "iopub.status.busy": "2021-08-15T23:51:13.181176Z",
     "iopub.status.idle": "2021-08-15T23:51:13.247828Z",
     "shell.execute_reply": "2021-08-15T23:51:13.247248Z",
     "shell.execute_reply.started": "2021-08-15T23:49:57.900153Z"
    },
    "papermill": {
     "duration": 0.121619,
     "end_time": "2021-08-15T23:51:13.247962",
     "exception": false,
     "start_time": "2021-08-15T23:51:13.126343",
     "status": "completed"
    },
    "tags": []
   },
   "outputs": [],
   "source": [
    "def get_cat_hour(df):\n",
    "    cat_hour = []\n",
    "    for hour in df['Hour']:\n",
    "        if hour <8: cat_hour.append(1)\n",
    "        elif hour == 8 :  cat_hour.append(4)\n",
    "        elif hour == 9 : cat_hour.append(5)\n",
    "        elif hour < 18 : cat_hour.append(3)\n",
    "        elif hour==18 or hour==19 : cat_hour.append(7)\n",
    "        elif hour==20 or hour==21 : cat_hour.append(6)\n",
    "        else: cat_hour.append(2)\n",
    "    df[\"cat_hour\"] = cat_hour\n",
    "    \n",
    "    \n",
    "def get_cat_temp(df):\n",
    "    cat_temp = []\n",
    "    for t in df['Temperature(�C)']:\n",
    "        if t < 0: cat_temp.append(1)\n",
    "        elif t < 20 : cat_temp.append(2)\n",
    "        elif t < 35 : cat_temp.append(3)\n",
    "        else : cat_temp.append(4)\n",
    "    df[\"cat_temp\"] = cat_temp \n",
    "    \n",
    "def get_mean_of_y(feature):\n",
    "    meanOfy_dict = {}\n",
    "    grouped = df.groupby(feature)\n",
    "    for key,item in grouped:\n",
    "        a_group = grouped.get_group(key)\n",
    "        meanOfy_dict[key] = round(a_group[\"y\"].mean())\n",
    "    return meanOfy_dict\n",
    "\n",
    "    \n",
    "    \n",
    "get_cat_hour(df)\n",
    "get_cat_temp(df)\n",
    "\n",
    "meanOfy_dict = get_mean_of_y(\"cat_hour\")   \n",
    "meanyvt_dict = get_mean_of_y(\"cat_temp\")\n",
    "meanyvm_dict = get_mean_of_y(\"Month\")\n",
    "meanyvy_dict = get_mean_of_y(\"Year\")\n",
    "    \n",
    "    \n",
    "df[\"meanyvt\"] = [meanyvt_dict[temp] for temp in df[\"cat_temp\"]]\n",
    "df[\"meanOfy\"] = [meanOfy_dict[hour] for hour in df[\"cat_hour\"]]\n",
    "\n",
    "df[\"meanyvm\"] = [meanyvm_dict[month] for month in df[\"Month\"]]\n",
    "df[\"meanyvy\"] = [meanyvy_dict[year] for year in df[\"Year\"]]\n",
    "\n",
    "\n",
    "df[\"xxx\"] = df[\"meanyvt\"] * df[\"HumidityMultTemp\"] * df[\"HumidityMultTempDevHour\"]\n"
   ]
  },
  {
   "cell_type": "markdown",
   "metadata": {
    "papermill": {
     "duration": 0.04563,
     "end_time": "2021-08-15T23:51:13.338685",
     "exception": false,
     "start_time": "2021-08-15T23:51:13.293055",
     "status": "completed"
    },
    "tags": []
   },
   "source": [
    "Test Data"
   ]
  },
  {
   "cell_type": "code",
   "execution_count": 19,
   "metadata": {
    "execution": {
     "iopub.execute_input": "2021-08-15T23:51:13.436421Z",
     "iopub.status.busy": "2021-08-15T23:51:13.435760Z",
     "iopub.status.idle": "2021-08-15T23:51:13.442110Z",
     "shell.execute_reply": "2021-08-15T23:51:13.442632Z",
     "shell.execute_reply.started": "2021-08-15T23:49:57.972831Z"
    },
    "papermill": {
     "duration": 0.057934,
     "end_time": "2021-08-15T23:51:13.442799",
     "exception": false,
     "start_time": "2021-08-15T23:51:13.384865",
     "status": "completed"
    },
    "tags": []
   },
   "outputs": [],
   "source": [
    "df_test[\"HumidityMultTemp\"] = df_test['Humidity(%)'] * df_test['Temperature(�C)']\n",
    "df_test[\"HourMultRain\"] = df_test['Hour'] * df_test['Rainfall(mm)']\n",
    "df_test[\"HourMultTemp\"] = df_test['Hour'] * df_test['Temperature(�C)']\n",
    "df_test[\"HourMultSnow\"] = df_test['Hour'] * df_test['Snowfall (cm)']\n"
   ]
  },
  {
   "cell_type": "code",
   "execution_count": 20,
   "metadata": {
    "execution": {
     "iopub.execute_input": "2021-08-15T23:51:13.539628Z",
     "iopub.status.busy": "2021-08-15T23:51:13.538957Z",
     "iopub.status.idle": "2021-08-15T23:51:13.572532Z",
     "shell.execute_reply": "2021-08-15T23:51:13.571866Z",
     "shell.execute_reply.started": "2021-08-15T23:49:57.983851Z"
    },
    "papermill": {
     "duration": 0.084398,
     "end_time": "2021-08-15T23:51:13.572668",
     "exception": false,
     "start_time": "2021-08-15T23:51:13.488270",
     "status": "completed"
    },
    "tags": []
   },
   "outputs": [],
   "source": [
    "add_deviation_feature(df_test,'Solar Radiation (MJ/m2)' , \"Hour\")\n",
    "add_deviation_feature(df_test,'HumidityMultTemp' , \"Hour\")\n",
    "df_test.fillna(0, inplace=True)"
   ]
  },
  {
   "cell_type": "code",
   "execution_count": 21,
   "metadata": {
    "execution": {
     "iopub.execute_input": "2021-08-15T23:51:13.671969Z",
     "iopub.status.busy": "2021-08-15T23:51:13.671273Z",
     "iopub.status.idle": "2021-08-15T23:51:13.682998Z",
     "shell.execute_reply": "2021-08-15T23:51:13.682495Z",
     "shell.execute_reply.started": "2021-08-15T23:49:58.033498Z"
    },
    "papermill": {
     "duration": 0.065038,
     "end_time": "2021-08-15T23:51:13.683135",
     "exception": false,
     "start_time": "2021-08-15T23:51:13.618097",
     "status": "completed"
    },
    "tags": []
   },
   "outputs": [],
   "source": [
    "#Convert Date to Year, Month, Day\n",
    "date_col = pd.to_datetime(df_test['Date']).dt\n",
    "\n",
    "df_test[\"Year\"] = date_col.year\n",
    "df_test[\"Month\"] = date_col.month\n",
    "df_test[\"Day\"] = date_col.day\n",
    "\n",
    "#Replace Date With Week Day \n",
    "dw_mapping={\n",
    "    0: 'Monday', \n",
    "    1: 'Tuesday', \n",
    "    2: 'Wednesday', \n",
    "    3: 'Thursday', \n",
    "    4: 'Friday',\n",
    "    5: 'Saturday', \n",
    "    6: 'Sunday'\n",
    "} \n",
    "df_test['Day_name'] = date_col.weekday.map(dw_mapping)\n",
    "df_test.drop(columns=\"Date\", inplace=True)"
   ]
  },
  {
   "cell_type": "code",
   "execution_count": 22,
   "metadata": {
    "execution": {
     "iopub.execute_input": "2021-08-15T23:51:13.777907Z",
     "iopub.status.busy": "2021-08-15T23:51:13.776975Z",
     "iopub.status.idle": "2021-08-15T23:51:13.784596Z",
     "shell.execute_reply": "2021-08-15T23:51:13.785038Z",
     "shell.execute_reply.started": "2021-08-15T23:49:58.052136Z"
    },
    "papermill": {
     "duration": 0.056444,
     "end_time": "2021-08-15T23:51:13.785194",
     "exception": false,
     "start_time": "2021-08-15T23:51:13.728750",
     "status": "completed"
    },
    "tags": []
   },
   "outputs": [],
   "source": [
    "df_test[\"Weekend\"] = df_test['Day_name'].apply(lambda x : 1 if (x == 'Saturday' or x == \"Sunday\") else(0))"
   ]
  },
  {
   "cell_type": "code",
   "execution_count": 23,
   "metadata": {
    "execution": {
     "iopub.execute_input": "2021-08-15T23:51:13.880221Z",
     "iopub.status.busy": "2021-08-15T23:51:13.879296Z",
     "iopub.status.idle": "2021-08-15T23:51:13.903210Z",
     "shell.execute_reply": "2021-08-15T23:51:13.903707Z",
     "shell.execute_reply.started": "2021-08-15T23:49:58.066952Z"
    },
    "papermill": {
     "duration": 0.073173,
     "end_time": "2021-08-15T23:51:13.903885",
     "exception": false,
     "start_time": "2021-08-15T23:51:13.830712",
     "status": "completed"
    },
    "tags": []
   },
   "outputs": [],
   "source": [
    "\n",
    "get_cat_hour(df_test)\n",
    "get_cat_temp(df_test)\n",
    "\n",
    "df_test[\"meanyvt\"] = [meanyvt_dict[temp] for temp in df_test[\"cat_temp\"]]\n",
    "df_test[\"meanOfy\"] = [meanOfy_dict[hour] for hour in df_test[\"cat_hour\"]]\n",
    "\n",
    "df_test[\"meanyvm\"] = [meanyvm_dict[month] for month in df_test[\"Month\"]]\n",
    "df_test[\"meanyvy\"] = [meanyvy_dict[year] for year in df_test[\"Year\"]]\n",
    "\n",
    "\n",
    "df_test[\"xxx\"] = df_test[\"meanyvt\"] * df_test[\"HumidityMultTemp\"] * df_test[\"HumidityMultTempDevHour\"]\n"
   ]
  },
  {
   "cell_type": "markdown",
   "metadata": {
    "papermill": {
     "duration": 0.045065,
     "end_time": "2021-08-15T23:51:13.994298",
     "exception": false,
     "start_time": "2021-08-15T23:51:13.949233",
     "status": "completed"
    },
    "tags": []
   },
   "source": [
    "# Drop Columns"
   ]
  },
  {
   "cell_type": "markdown",
   "metadata": {
    "papermill": {
     "duration": 0.044904,
     "end_time": "2021-08-15T23:51:14.085220",
     "exception": false,
     "start_time": "2021-08-15T23:51:14.040316",
     "status": "completed"
    },
    "tags": []
   },
   "source": [
    "Train Data"
   ]
  },
  {
   "cell_type": "code",
   "execution_count": 24,
   "metadata": {
    "execution": {
     "iopub.execute_input": "2021-08-15T23:51:14.180595Z",
     "iopub.status.busy": "2021-08-15T23:51:14.179591Z",
     "iopub.status.idle": "2021-08-15T23:51:14.187885Z",
     "shell.execute_reply": "2021-08-15T23:51:14.188306Z",
     "shell.execute_reply.started": "2021-08-15T23:49:58.097268Z"
    },
    "papermill": {
     "duration": 0.057835,
     "end_time": "2021-08-15T23:51:14.188492",
     "exception": false,
     "start_time": "2021-08-15T23:51:14.130657",
     "status": "completed"
    },
    "tags": []
   },
   "outputs": [],
   "source": [
    "dropped_col = [\"HumidityMultTemp\", \"cat_temp\", \"cat_hour\",\"Temperature(�C)\", \"Dew point temperature(�C)\"]\n",
    "df.drop(columns=dropped_col, inplace=True)"
   ]
  },
  {
   "cell_type": "code",
   "execution_count": 25,
   "metadata": {
    "execution": {
     "iopub.execute_input": "2021-08-15T23:51:14.287079Z",
     "iopub.status.busy": "2021-08-15T23:51:14.286413Z",
     "iopub.status.idle": "2021-08-15T23:51:14.292498Z",
     "shell.execute_reply": "2021-08-15T23:51:14.291985Z",
     "shell.execute_reply.started": "2021-08-15T23:49:58.107655Z"
    },
    "papermill": {
     "duration": 0.05822,
     "end_time": "2021-08-15T23:51:14.292641",
     "exception": false,
     "start_time": "2021-08-15T23:51:14.234421",
     "status": "completed"
    },
    "tags": []
   },
   "outputs": [],
   "source": [
    "df = df[df[\"Functioning Day\"] == \"Yes\"]\n",
    "df.drop(columns=[\"Functioning Day\"], inplace=True)\n",
    "df.reset_index(drop=True, inplace=True)"
   ]
  },
  {
   "cell_type": "markdown",
   "metadata": {
    "papermill": {
     "duration": 0.045289,
     "end_time": "2021-08-15T23:51:14.383382",
     "exception": false,
     "start_time": "2021-08-15T23:51:14.338093",
     "status": "completed"
    },
    "tags": []
   },
   "source": [
    "Test Data"
   ]
  },
  {
   "cell_type": "code",
   "execution_count": 26,
   "metadata": {
    "execution": {
     "iopub.execute_input": "2021-08-15T23:51:14.480817Z",
     "iopub.status.busy": "2021-08-15T23:51:14.479759Z",
     "iopub.status.idle": "2021-08-15T23:51:14.485224Z",
     "shell.execute_reply": "2021-08-15T23:51:14.484724Z",
     "shell.execute_reply.started": "2021-08-15T23:49:58.121450Z"
    },
    "papermill": {
     "duration": 0.056655,
     "end_time": "2021-08-15T23:51:14.485376",
     "exception": false,
     "start_time": "2021-08-15T23:51:14.428721",
     "status": "completed"
    },
    "tags": []
   },
   "outputs": [],
   "source": [
    "df_test.drop(columns= dropped_col, inplace=True)"
   ]
  },
  {
   "cell_type": "code",
   "execution_count": 27,
   "metadata": {
    "execution": {
     "iopub.execute_input": "2021-08-15T23:51:14.579540Z",
     "iopub.status.busy": "2021-08-15T23:51:14.578870Z",
     "iopub.status.idle": "2021-08-15T23:51:14.581703Z",
     "shell.execute_reply": "2021-08-15T23:51:14.582217Z",
     "shell.execute_reply.started": "2021-08-15T23:49:58.130262Z"
    },
    "papermill": {
     "duration": 0.051395,
     "end_time": "2021-08-15T23:51:14.582385",
     "exception": false,
     "start_time": "2021-08-15T23:51:14.530990",
     "status": "completed"
    },
    "tags": []
   },
   "outputs": [],
   "source": [
    "# df_test_yes = df_test_using_ord_enc[df_test_using_ord_enc[\"Functioning Day\"] == 1]\n",
    "# df_test.drop(columns=[\"Functioning Day\"], inplace=True)"
   ]
  },
  {
   "cell_type": "markdown",
   "metadata": {
    "papermill": {
     "duration": 0.045695,
     "end_time": "2021-08-15T23:51:14.673688",
     "exception": false,
     "start_time": "2021-08-15T23:51:14.627993",
     "status": "completed"
    },
    "tags": []
   },
   "source": [
    "# Encode Data"
   ]
  },
  {
   "cell_type": "markdown",
   "metadata": {
    "papermill": {
     "duration": 0.045372,
     "end_time": "2021-08-15T23:51:14.764329",
     "exception": false,
     "start_time": "2021-08-15T23:51:14.718957",
     "status": "completed"
    },
    "tags": []
   },
   "source": [
    "Train data"
   ]
  },
  {
   "cell_type": "code",
   "execution_count": 28,
   "metadata": {
    "execution": {
     "iopub.execute_input": "2021-08-15T23:51:14.858356Z",
     "iopub.status.busy": "2021-08-15T23:51:14.857723Z",
     "iopub.status.idle": "2021-08-15T23:51:14.883306Z",
     "shell.execute_reply": "2021-08-15T23:51:14.883815Z",
     "shell.execute_reply.started": "2021-08-15T23:49:58.137760Z"
    },
    "papermill": {
     "duration": 0.074122,
     "end_time": "2021-08-15T23:51:14.883992",
     "exception": false,
     "start_time": "2021-08-15T23:51:14.809870",
     "status": "completed"
    },
    "tags": []
   },
   "outputs": [],
   "source": [
    "df[\"Visibility\"]=df['Visibility (10m)'].apply(lambda x : 1 if (x >650) else(0))\n",
    "df.drop(columns=['Visibility (10m)'], inplace=True)\n",
    "\n",
    "# df[\"Humidity\"]=df['Humidity(%)'].apply(lambda x : 0 if (x > 35 and x < 70) else(1))\n",
    "# df.drop(columns=['Humidity(%)'], inplace=True)\n",
    "\n",
    "df[\"Snowfall\"]=df['Snowfall (cm)'].apply(lambda x : 1 if (x > 0) else(0))\n",
    "df.drop(columns=['Snowfall (cm)'], inplace=True)\n",
    "\n",
    "df['Rainfall']=df['Rainfall(mm)'].apply(lambda x : 1 if (x > 0) else(0))\n",
    "df.drop(columns=['Rainfall(mm)'], inplace=True)"
   ]
  },
  {
   "cell_type": "code",
   "execution_count": 29,
   "metadata": {
    "execution": {
     "iopub.execute_input": "2021-08-15T23:51:14.978266Z",
     "iopub.status.busy": "2021-08-15T23:51:14.977647Z",
     "iopub.status.idle": "2021-08-15T23:51:14.983936Z",
     "shell.execute_reply": "2021-08-15T23:51:14.984365Z",
     "shell.execute_reply.started": "2021-08-15T23:49:58.168266Z"
    },
    "papermill": {
     "duration": 0.05477,
     "end_time": "2021-08-15T23:51:14.984528",
     "exception": false,
     "start_time": "2021-08-15T23:51:14.929758",
     "status": "completed"
    },
    "tags": []
   },
   "outputs": [],
   "source": [
    "enc_col_names = [\"Visibility\", \"Day_name\", \"Seasons\", \"Holiday\"]\n",
    "enc_df = df[enc_col_names]\n",
    "df.drop(enc_col_names, inplace=True, axis=1)\n",
    "# enc_df.head()"
   ]
  },
  {
   "cell_type": "code",
   "execution_count": 30,
   "metadata": {
    "execution": {
     "iopub.execute_input": "2021-08-15T23:51:15.079711Z",
     "iopub.status.busy": "2021-08-15T23:51:15.079089Z",
     "iopub.status.idle": "2021-08-15T23:51:15.092587Z",
     "shell.execute_reply": "2021-08-15T23:51:15.093037Z",
     "shell.execute_reply.started": "2021-08-15T23:49:58.176597Z"
    },
    "papermill": {
     "duration": 0.063279,
     "end_time": "2021-08-15T23:51:15.093207",
     "exception": false,
     "start_time": "2021-08-15T23:51:15.029928",
     "status": "completed"
    },
    "tags": []
   },
   "outputs": [],
   "source": [
    "# Ordinal Encoding\n",
    "ord_enc = preprocessing.OrdinalEncoder(dtype=int)\n",
    "ord_enc_df = pd.DataFrame(ord_enc.fit_transform(enc_df), columns= enc_col_names)\n",
    "# ord_enc_df.head()"
   ]
  },
  {
   "cell_type": "code",
   "execution_count": 31,
   "metadata": {
    "execution": {
     "iopub.execute_input": "2021-08-15T23:51:15.188408Z",
     "iopub.status.busy": "2021-08-15T23:51:15.187723Z",
     "iopub.status.idle": "2021-08-15T23:51:15.193210Z",
     "shell.execute_reply": "2021-08-15T23:51:15.193701Z",
     "shell.execute_reply.started": "2021-08-15T23:49:58.197446Z"
    },
    "papermill": {
     "duration": 0.05421,
     "end_time": "2021-08-15T23:51:15.193887",
     "exception": false,
     "start_time": "2021-08-15T23:51:15.139677",
     "status": "completed"
    },
    "tags": []
   },
   "outputs": [],
   "source": [
    "df_using_ord_enc = pd.concat([df, ord_enc_df], axis=1)"
   ]
  },
  {
   "cell_type": "code",
   "execution_count": 32,
   "metadata": {
    "execution": {
     "iopub.execute_input": "2021-08-15T23:51:15.287802Z",
     "iopub.status.busy": "2021-08-15T23:51:15.287144Z",
     "iopub.status.idle": "2021-08-15T23:51:15.307768Z",
     "shell.execute_reply": "2021-08-15T23:51:15.308242Z",
     "shell.execute_reply.started": "2021-08-15T23:49:58.204548Z"
    },
    "papermill": {
     "duration": 0.068924,
     "end_time": "2021-08-15T23:51:15.308433",
     "exception": false,
     "start_time": "2021-08-15T23:51:15.239509",
     "status": "completed"
    },
    "tags": []
   },
   "outputs": [
    {
     "data": {
      "text/plain": [
       "y                                 1.000000\n",
       "HourMultTemp                      0.710467\n",
       "meanyvt                           0.526517\n",
       "meanOfy                           0.502558\n",
       "ID                                0.438407\n",
       "Hour                              0.425788\n",
       "Solar Radiation (MJ/m2)DevHour    0.395651\n",
       "HumidityMultTempDevHour           0.387503\n",
       "Solar Radiation (MJ/m2)           0.266213\n",
       "meanyvm                           0.239319\n",
       "Year                              0.222609\n",
       "meanyvy                           0.222609\n",
       "Visibility                        0.200440\n",
       "xxx                               0.166976\n",
       "Wind speed (m/s)                  0.121494\n",
       "Day                               0.109327\n",
       "Month                             0.086479\n",
       "Holiday                           0.048611\n",
       "Day_name                         -0.017893\n",
       "Weekend                          -0.023248\n",
       "HourMultRain                     -0.101992\n",
       "HourMultSnow                     -0.109146\n",
       "Snowfall                         -0.159605\n",
       "Humidity(%)                      -0.192091\n",
       "Rainfall                         -0.216101\n",
       "Seasons                          -0.314052\n",
       "Name: y, dtype: float64"
      ]
     },
     "execution_count": 32,
     "metadata": {},
     "output_type": "execute_result"
    }
   ],
   "source": [
    "corr_matrix = df_using_ord_enc.corr()\n",
    "corr_matrix['y'].sort_values(ascending=False)"
   ]
  },
  {
   "cell_type": "code",
   "execution_count": 33,
   "metadata": {
    "execution": {
     "iopub.execute_input": "2021-08-15T23:51:15.409345Z",
     "iopub.status.busy": "2021-08-15T23:51:15.408691Z",
     "iopub.status.idle": "2021-08-15T23:51:17.172245Z",
     "shell.execute_reply": "2021-08-15T23:51:17.172737Z",
     "shell.execute_reply.started": "2021-08-15T23:49:58.234271Z"
    },
    "papermill": {
     "duration": 1.81732,
     "end_time": "2021-08-15T23:51:17.172910",
     "exception": false,
     "start_time": "2021-08-15T23:51:15.355590",
     "status": "completed"
    },
    "tags": []
   },
   "outputs": [
    {
     "data": {
      "image/png": "[encoded data removed]",
      "text/plain": [
       "<Figure size 720x720 with 2 Axes>"
      ]
     },
     "metadata": {
      "needs_background": "light"
     },
     "output_type": "display_data"
    }
   ],
   "source": [
    "corr = df.corr()\n",
    "corr_mask = np.ones_like(corr)\n",
    "corr_mask[np.tril_indices_from(corr_mask)] = False\n",
    "\n",
    "plt.subplots(figsize=(10,10))\n",
    "sns.heatmap(corr, mask=corr_mask, \n",
    "            cmap=sns.diverging_palette(220, 10, as_cmap=True),\n",
    "            square=True, annot=True)\n",
    "plt.show()"
   ]
  },
  {
   "cell_type": "markdown",
   "metadata": {
    "papermill": {
     "duration": 0.050643,
     "end_time": "2021-08-15T23:51:17.274835",
     "exception": false,
     "start_time": "2021-08-15T23:51:17.224192",
     "status": "completed"
    },
    "tags": []
   },
   "source": [
    "Test Data"
   ]
  },
  {
   "cell_type": "code",
   "execution_count": 34,
   "metadata": {
    "execution": {
     "iopub.execute_input": "2021-08-15T23:51:17.388241Z",
     "iopub.status.busy": "2021-08-15T23:51:17.387237Z",
     "iopub.status.idle": "2021-08-15T23:51:17.401410Z",
     "shell.execute_reply": "2021-08-15T23:51:17.400748Z",
     "shell.execute_reply.started": "2021-08-15T23:50:00.003048Z"
    },
    "papermill": {
     "duration": 0.075658,
     "end_time": "2021-08-15T23:51:17.401541",
     "exception": false,
     "start_time": "2021-08-15T23:51:17.325883",
     "status": "completed"
    },
    "tags": []
   },
   "outputs": [],
   "source": [
    "df_test[\"Visibility\"]=df_test['Visibility (10m)'].apply(lambda x : 1 if (x >650) else(0))\n",
    "df_test.drop(columns=['Visibility (10m)'], inplace=True)\n",
    "\n",
    "\n",
    "# df_test[\"Humidity\"]=df_test['Humidity(%)'].apply(lambda x : 0 if (x > 35 and x < 75) else(1))\n",
    "# df_test.drop(columns=['Humidity(%)'], inplace=True)\n",
    "\n",
    "\n",
    "df_test[\"Snowfall\"]=df_test['Snowfall (cm)'].apply(lambda x : 1 if (x > 0) else(0))\n",
    "df_test.drop(columns=['Snowfall (cm)'], inplace=True)\n",
    "\n",
    "df_test['Rainfall']=df_test['Rainfall(mm)'].apply(lambda x : 1 if (x > 0) else(0))\n",
    "df_test.drop(columns=['Rainfall(mm)'], inplace=True)\n",
    "\n",
    "\n",
    "\n"
   ]
  },
  {
   "cell_type": "code",
   "execution_count": 35,
   "metadata": {
    "execution": {
     "iopub.execute_input": "2021-08-15T23:51:17.511547Z",
     "iopub.status.busy": "2021-08-15T23:51:17.510879Z",
     "iopub.status.idle": "2021-08-15T23:51:17.512843Z",
     "shell.execute_reply": "2021-08-15T23:51:17.513273Z",
     "shell.execute_reply.started": "2021-08-15T23:50:00.026375Z"
    },
    "papermill": {
     "duration": 0.060915,
     "end_time": "2021-08-15T23:51:17.513460",
     "exception": false,
     "start_time": "2021-08-15T23:51:17.452545",
     "status": "completed"
    },
    "tags": []
   },
   "outputs": [],
   "source": [
    "enc_df_test = df_test[enc_col_names]\n",
    "df_test.drop(enc_col_names, inplace=True, axis=1)\n",
    "# enc_df_test.head()"
   ]
  },
  {
   "cell_type": "code",
   "execution_count": 36,
   "metadata": {
    "execution": {
     "iopub.execute_input": "2021-08-15T23:51:17.617527Z",
     "iopub.status.busy": "2021-08-15T23:51:17.616898Z",
     "iopub.status.idle": "2021-08-15T23:51:17.627442Z",
     "shell.execute_reply": "2021-08-15T23:51:17.627955Z",
     "shell.execute_reply.started": "2021-08-15T23:50:00.035888Z"
    },
    "papermill": {
     "duration": 0.064108,
     "end_time": "2021-08-15T23:51:17.628142",
     "exception": false,
     "start_time": "2021-08-15T23:51:17.564034",
     "status": "completed"
    },
    "tags": []
   },
   "outputs": [],
   "source": [
    "# Ordinal Encoding\n",
    "ord_enc_test = preprocessing.OrdinalEncoder(dtype=int)\n",
    "ord_enc_df_test = pd.DataFrame(ord_enc_test.fit_transform(enc_df_test), columns= enc_col_names)\n",
    "# ord_enc_df_test.head()"
   ]
  },
  {
   "cell_type": "code",
   "execution_count": 37,
   "metadata": {
    "execution": {
     "iopub.execute_input": "2021-08-15T23:51:17.736557Z",
     "iopub.status.busy": "2021-08-15T23:51:17.735908Z",
     "iopub.status.idle": "2021-08-15T23:51:17.741370Z",
     "shell.execute_reply": "2021-08-15T23:51:17.741878Z",
     "shell.execute_reply.started": "2021-08-15T23:50:00.051884Z"
    },
    "papermill": {
     "duration": 0.060079,
     "end_time": "2021-08-15T23:51:17.742056",
     "exception": false,
     "start_time": "2021-08-15T23:51:17.681977",
     "status": "completed"
    },
    "tags": []
   },
   "outputs": [],
   "source": [
    "df_test_using_ord_enc = pd.concat([df_test, ord_enc_df_test], axis=1)"
   ]
  },
  {
   "cell_type": "markdown",
   "metadata": {
    "papermill": {
     "duration": 0.050916,
     "end_time": "2021-08-15T23:51:17.843691",
     "exception": false,
     "start_time": "2021-08-15T23:51:17.792775",
     "status": "completed"
    },
    "tags": []
   },
   "source": [
    "RMSLE function"
   ]
  },
  {
   "cell_type": "code",
   "execution_count": 38,
   "metadata": {
    "execution": {
     "iopub.execute_input": "2021-08-15T23:51:17.949009Z",
     "iopub.status.busy": "2021-08-15T23:51:17.948317Z",
     "iopub.status.idle": "2021-08-15T23:51:17.952414Z",
     "shell.execute_reply": "2021-08-15T23:51:17.952847Z",
     "shell.execute_reply.started": "2021-08-15T23:50:00.059879Z"
    },
    "papermill": {
     "duration": 0.057821,
     "end_time": "2021-08-15T23:51:17.953007",
     "exception": false,
     "start_time": "2021-08-15T23:51:17.895186",
     "status": "completed"
    },
    "tags": []
   },
   "outputs": [],
   "source": [
    "def rmsle(y_pred, y_test) : \n",
    "    assert len(y_test) == len(y_pred)\n",
    "    return np.sqrt(np.mean((np.log(1+y_pred) - np.log(1+y_test))**2))"
   ]
  },
  {
   "cell_type": "markdown",
   "metadata": {
    "papermill": {
     "duration": 0.056309,
     "end_time": "2021-08-15T23:51:18.062911",
     "exception": false,
     "start_time": "2021-08-15T23:51:18.006602",
     "status": "completed"
    },
    "tags": []
   },
   "source": [
    "# Model Training"
   ]
  },
  {
   "cell_type": "code",
   "execution_count": 39,
   "metadata": {
    "execution": {
     "iopub.execute_input": "2021-08-15T23:51:18.167759Z",
     "iopub.status.busy": "2021-08-15T23:51:18.167119Z",
     "iopub.status.idle": "2021-08-15T23:51:18.175776Z",
     "shell.execute_reply": "2021-08-15T23:51:18.176230Z",
     "shell.execute_reply.started": "2021-08-15T23:50:00.069683Z"
    },
    "papermill": {
     "duration": 0.062162,
     "end_time": "2021-08-15T23:51:18.176451",
     "exception": false,
     "start_time": "2021-08-15T23:51:18.114289",
     "status": "completed"
    },
    "tags": []
   },
   "outputs": [],
   "source": [
    "#Split The Data (Ordinal Encoded)\n",
    "X, y = df_using_ord_enc.drop(columns = [\"ID\", \"y\"]), df_using_ord_enc[\"y\"]\n",
    "X_train_ord, X_test_ord, y_train_ord, y_test_ord = train_test_split(X, y, random_state=0, test_size=0.2)"
   ]
  },
  {
   "cell_type": "code",
   "execution_count": 40,
   "metadata": {
    "execution": {
     "iopub.execute_input": "2021-08-15T23:51:18.280256Z",
     "iopub.status.busy": "2021-08-15T23:51:18.279614Z",
     "iopub.status.idle": "2021-08-15T23:51:18.284598Z",
     "shell.execute_reply": "2021-08-15T23:51:18.285051Z",
     "shell.execute_reply.started": "2021-08-15T23:50:00.085017Z"
    },
    "papermill": {
     "duration": 0.058035,
     "end_time": "2021-08-15T23:51:18.285210",
     "exception": false,
     "start_time": "2021-08-15T23:51:18.227175",
     "status": "completed"
    },
    "tags": []
   },
   "outputs": [],
   "source": [
    "models = [ExtraTreesRegressor, GradientBoostingRegressor, RandomForestRegressor, BaggingRegressor]\n",
    "param = {\n",
    "    \"extra_reg_model\" : { \"n_estimators\":100, \"random_state\":0},\n",
    "    \"grad_bo_reg_model\" : {\"max_depth\":5, \"min_samples_leaf\":3, \"n_estimators\":100, \"learning_rate\":0.2, \"max_features\":5, \"random_state\":0},\n",
    "    \"ran_for_reg_model\" : { \"n_estimators\" : 100, \"random_state\" : 0},\n",
    "#     \"dec_tree_reg_model\" : {  \"random_state\" : 0},\n",
    "    \"bag_reg_model\" : { \"n_estimators\" : 100, \"random_state\" : 0}\n",
    "    \n",
    "}\n",
    "model_fit_ord = {}\n",
    "model_fit_one = {}"
   ]
  },
  {
   "cell_type": "code",
   "execution_count": 41,
   "metadata": {
    "execution": {
     "iopub.execute_input": "2021-08-15T23:51:18.388864Z",
     "iopub.status.busy": "2021-08-15T23:51:18.388173Z",
     "iopub.status.idle": "2021-08-15T23:51:28.546433Z",
     "shell.execute_reply": "2021-08-15T23:51:28.545894Z",
     "shell.execute_reply.started": "2021-08-15T23:50:00.093279Z"
    },
    "papermill": {
     "duration": 10.211056,
     "end_time": "2021-08-15T23:51:28.546583",
     "exception": false,
     "start_time": "2021-08-15T23:51:18.335527",
     "status": "completed"
    },
    "tags": []
   },
   "outputs": [
    {
     "name": "stdout",
     "output_type": "stream",
     "text": [
      "Score of extra_reg_model_ord = 0.8989147012381501\n",
      "Score of extra_reg_model_ord = 1.0\n",
      "RMSLE of extra_reg_model_ord (train) = 0.0\n",
      "RMSLE of extra_reg_model_ord = 0.4201224452301492\n",
      "\n",
      "\n",
      "Score of grad_bo_reg_model_ord = 0.9053950266437858\n",
      "Score of grad_bo_reg_model_ord = 0.9607087477454299\n",
      "RMSLE of grad_bo_reg_model_ord (train) = 0.38799043871716493\n",
      "RMSLE of grad_bo_reg_model_ord = 0.47001986470579044\n",
      "\n",
      "\n"
     ]
    },
    {
     "name": "stderr",
     "output_type": "stream",
     "text": [
      "/opt/conda/lib/python3.7/site-packages/ipykernel_launcher.py:3: RuntimeWarning: invalid value encountered in log\n",
      "  This is separate from the ipykernel package so we can avoid doing imports until\n"
     ]
    },
    {
     "name": "stdout",
     "output_type": "stream",
     "text": [
      "Score of ran_for_reg_model_ord = 0.8978883250276095\n",
      "Score of ran_for_reg_model_ord = 0.9844728594868448\n",
      "RMSLE of ran_for_reg_model_ord (train) = 0.251658613724236\n",
      "RMSLE of ran_for_reg_model_ord = 0.4719387686432116\n",
      "\n",
      "\n",
      "Score of bag_reg_model_ord = 0.8976656800604269\n",
      "Score of bag_reg_model_ord = 0.9844382404556951\n",
      "RMSLE of bag_reg_model_ord (train) = 0.25138172924284835\n",
      "RMSLE of bag_reg_model_ord = 0.47268874958709245\n",
      "\n",
      "\n"
     ]
    }
   ],
   "source": [
    "for model, param_key in zip(models,param):\n",
    "    # Ordinal Encoding\n",
    "    model_res = model(**param[param_key]).fit(X_train_ord, y_train_ord)\n",
    "    print(f\"Score of {param_key}_ord = {model_res.score(X_test_ord, y_test_ord)}\")\n",
    "    print(f\"Score of {param_key}_ord = {model_res.score(X_train_ord, y_train_ord)}\")\n",
    "    \n",
    "    y_pred = model_res.predict(X_test_ord) #* X_test_ord[\"Functioning Day\"]\n",
    "    y_pred_train = model_res.predict(X_train_ord) #* X_train_ord[\"Functioning Day\"]\n",
    "    \n",
    "    print(f\"RMSLE of {param_key}_ord (train) = {rmsle(y_train_ord, y_pred_train)}\")\n",
    "    print(f\"RMSLE of {param_key}_ord = {rmsle(y_test_ord, y_pred)}\\n\\n\")\n",
    "    \n",
    "    model_fit_ord[param_key+\"_ord\"] = model_res\n",
    "  "
   ]
  },
  {
   "cell_type": "code",
   "execution_count": 42,
   "metadata": {
    "execution": {
     "iopub.execute_input": "2021-08-15T23:51:28.661441Z",
     "iopub.status.busy": "2021-08-15T23:51:28.660758Z",
     "iopub.status.idle": "2021-08-15T23:51:29.541116Z",
     "shell.execute_reply": "2021-08-15T23:51:29.541629Z",
     "shell.execute_reply.started": "2021-08-15T23:50:10.159746Z"
    },
    "papermill": {
     "duration": 0.941552,
     "end_time": "2021-08-15T23:51:29.541835",
     "exception": false,
     "start_time": "2021-08-15T23:51:28.600283",
     "status": "completed"
    },
    "tags": []
   },
   "outputs": [
    {
     "name": "stdout",
     "output_type": "stream",
     "text": [
      "Score of XGB_reg_model_ord = 0.919410815724116\n",
      "Score of XGB_reg_model_ord = 0.9795587995952071\n",
      "RMSLE of XGB_reg_model_ord (train)= 0.24043802272390183\n",
      "RMSLE of XGB_reg_model_ord = 0.38080216530839384\n",
      "\n",
      "\n"
     ]
    }
   ],
   "source": [
    "my_ord_model = XGBRegressor(eval_metric=\"rmsle\", max_depth=5, n_estimators=196, objective='count:poisson').fit(X_train_ord, y_train_ord,early_stopping_rounds=20, \n",
    "             eval_set=[(X_test_ord, y_test_ord)], verbose=False)\n",
    "print(f\"Score of XGB_reg_model_ord = {my_ord_model.score(X_test_ord, y_test_ord)}\")\n",
    "print(f\"Score of XGB_reg_model_ord = {my_ord_model.score(X_train_ord, y_train_ord)}\")\n",
    "\n",
    "y_pred = my_ord_model.predict(X_test_ord) #* X_test_ord[\"Functioning Day\"]\n",
    "y_pred_train = my_ord_model.predict(X_train_ord) #* X_train_ord[\"Functioning Day\"]\n",
    "\n",
    "print(f\"RMSLE of XGB_reg_model_ord (train)= {rmsle(y_train_ord, y_pred_train)}\")\n",
    "print(f\"RMSLE of XGB_reg_model_ord = {rmsle(y_test_ord, y_pred)}\\n\\n\")\n",
    "\n",
    "model_fit_ord[\"XGB_reg_model\"+\"_ord\"] = my_ord_model"
   ]
  },
  {
   "cell_type": "markdown",
   "metadata": {
    "papermill": {
     "duration": 0.052412,
     "end_time": "2021-08-15T23:51:29.647694",
     "exception": false,
     "start_time": "2021-08-15T23:51:29.595282",
     "status": "completed"
    },
    "tags": []
   },
   "source": [
    "# Submission File Generation"
   ]
  },
  {
   "cell_type": "markdown",
   "metadata": {
    "papermill": {
     "duration": 0.052661,
     "end_time": "2021-08-15T23:51:29.754036",
     "exception": false,
     "start_time": "2021-08-15T23:51:29.701375",
     "status": "completed"
    },
    "tags": []
   },
   "source": [
    "# Apply models on Ordinal Encoding Data"
   ]
  },
  {
   "cell_type": "code",
   "execution_count": 43,
   "metadata": {
    "execution": {
     "iopub.execute_input": "2021-08-15T23:51:29.867642Z",
     "iopub.status.busy": "2021-08-15T23:51:29.866609Z",
     "iopub.status.idle": "2021-08-15T23:51:30.075843Z",
     "shell.execute_reply": "2021-08-15T23:51:30.076377Z",
     "shell.execute_reply.started": "2021-08-15T23:50:11.039515Z"
    },
    "papermill": {
     "duration": 0.270397,
     "end_time": "2021-08-15T23:51:30.076597",
     "exception": false,
     "start_time": "2021-08-15T23:51:29.806200",
     "status": "completed"
    },
    "tags": []
   },
   "outputs": [],
   "source": [
    "y_test_pred = {}\n",
    "func = df_test_using_ord_enc[\"Functioning Day\"] == \"Yes\"\n",
    "\n",
    "\n",
    "\n",
    "X_test_ord = df_test_using_ord_enc.drop(columns = [\"ID\", \"Functioning Day\"])\n",
    "\n",
    "for key in model_fit_ord :\n",
    "    y_test_pred[key] = model_fit_ord[key].predict(X_test_ord) * func\n"
   ]
  },
  {
   "cell_type": "code",
   "execution_count": 44,
   "metadata": {
    "execution": {
     "iopub.execute_input": "2021-08-15T23:51:30.192355Z",
     "iopub.status.busy": "2021-08-15T23:51:30.191306Z",
     "iopub.status.idle": "2021-08-15T23:51:30.193758Z",
     "shell.execute_reply": "2021-08-15T23:51:30.194237Z",
     "shell.execute_reply.started": "2021-08-15T23:50:11.260159Z"
    },
    "papermill": {
     "duration": 0.062163,
     "end_time": "2021-08-15T23:51:30.194416",
     "exception": false,
     "start_time": "2021-08-15T23:51:30.132253",
     "status": "completed"
    },
    "tags": []
   },
   "outputs": [],
   "source": [
    "df_test_using_ord_enc[\"y\"] = y_test_pred[\"XGB_reg_model_ord\"]\n"
   ]
  },
  {
   "cell_type": "code",
   "execution_count": 45,
   "metadata": {
    "execution": {
     "iopub.execute_input": "2021-08-15T23:51:30.305048Z",
     "iopub.status.busy": "2021-08-15T23:51:30.304071Z",
     "iopub.status.idle": "2021-08-15T23:51:30.311835Z",
     "shell.execute_reply": "2021-08-15T23:51:30.312435Z",
     "shell.execute_reply.started": "2021-08-15T23:50:11.267920Z"
    },
    "papermill": {
     "duration": 0.064629,
     "end_time": "2021-08-15T23:51:30.312597",
     "exception": false,
     "start_time": "2021-08-15T23:51:30.247968",
     "status": "completed"
    },
    "tags": []
   },
   "outputs": [
    {
     "data": {
      "text/plain": [
       "0       115.113686\n",
       "1       102.718605\n",
       "2        85.782143\n",
       "3        56.982986\n",
       "4        34.905064\n",
       "           ...    \n",
       "2995    966.076355\n",
       "2996    942.674500\n",
       "2997    851.268005\n",
       "2998    767.932251\n",
       "2999    661.277771\n",
       "Name: Functioning Day, Length: 3000, dtype: float32"
      ]
     },
     "execution_count": 45,
     "metadata": {},
     "output_type": "execute_result"
    }
   ],
   "source": [
    "y_test_pred[\"XGB_reg_model_ord\"]"
   ]
  },
  {
   "cell_type": "code",
   "execution_count": 46,
   "metadata": {
    "execution": {
     "iopub.execute_input": "2021-08-15T23:51:30.423625Z",
     "iopub.status.busy": "2021-08-15T23:51:30.422672Z",
     "iopub.status.idle": "2021-08-15T23:51:30.441885Z",
     "shell.execute_reply": "2021-08-15T23:51:30.441182Z",
     "shell.execute_reply.started": "2021-08-15T23:50:11.282963Z"
    },
    "papermill": {
     "duration": 0.075828,
     "end_time": "2021-08-15T23:51:30.442032",
     "exception": false,
     "start_time": "2021-08-15T23:51:30.366204",
     "status": "completed"
    },
    "tags": []
   },
   "outputs": [],
   "source": [
    "df_test_using_ord_enc[['ID', 'y']].to_csv('/kaggle/working/submission.csv', index=False)"
   ]
  }
 ],
 "metadata": {
  "kernelspec": {
   "display_name": "Python 3",
   "language": "python",
   "name": "python3"
  },
  "language_info": {
   "codemirror_mode": {
    "name": "ipython",
    "version": 3
   },
   "file_extension": ".py",
   "mimetype": "text/x-python",
   "name": "python",
   "nbconvert_exporter": "python",
   "pygments_lexer": "ipython3",
   "version": "3.8.5"
  },
  "papermill": {
   "default_parameters": {},
   "duration": 30.573629,
   "end_time": "2021-08-15T23:51:31.305426",
   "environment_variables": {},
   "exception": null,
   "input_path": "__notebook__.ipynb",
   "output_path": "__notebook__.ipynb",
   "parameters": {},
   "start_time": "2021-08-15T23:51:00.731797",
   "version": "2.3.3"
  }
 },
 "nbformat": 4,
 "nbformat_minor": 5
}
